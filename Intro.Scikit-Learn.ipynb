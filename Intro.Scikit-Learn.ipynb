{
 "cells": [
  {
   "cell_type": "markdown",
   "metadata": {},
   "source": [
    "# TD : Introduction à `sklearn`\n",
    "\n",
    "## Formation Machine Learning en Python\n",
    "\n",
    "Romain Tavenard\n",
    "\n",
    "Creative Commons CC BY-NC-SA\n"
   ]
  },
  {
   "cell_type": "markdown",
   "metadata": {},
   "source": [
    "Dans cette séance, nous aborderons l'utilisation de modèles `sklearn`.\n",
    "\n",
    "Pour disposer de tous les objets / fonctions dont vous aurez besoin, commencez\n",
    "votre code avec l'en-tête suivante :"
   ]
  },
  {
   "cell_type": "code",
   "execution_count": 7,
   "metadata": {},
   "outputs": [],
   "source": [
    "import numpy as np\n",
    "import matplotlib.pyplot as plt\n",
    "from sklearn.linear_model import LinearRegression, Lasso\n",
    "from sklearn.svm import SVC\n",
    "from sklearn.decomposition import PCA\n",
    "from sklearn.model_selection import train_test_split"
   ]
  },
  {
   "cell_type": "markdown",
   "metadata": {},
   "source": [
    "# Génération de données synthétiques & régression linéaire"
   ]
  },
  {
   "cell_type": "markdown",
   "metadata": {},
   "source": [
    "Dans la suite, vous allez tirer des données aléatoirement. Pour que vos\n",
    "expériences soient répétables, vous **devez**, avant toute chose, initialiser\n",
    "la graine de votre générateur aléatoire :"
   ]
  },
  {
   "cell_type": "code",
   "execution_count": 8,
   "metadata": {},
   "outputs": [],
   "source": [
    "np.random.seed(0)"
   ]
  },
  {
   "cell_type": "markdown",
   "metadata": {},
   "source": [
    "Notez que, sauf indication contraire, `sklearn` utilise l'état courant du\n",
    "générateur aléatoire de `numpy`, donc en fixant cette graine, vous rendez\n",
    "répétable le comportement de `numpy` ainsi que celui de `sklearn` pour la suite\n",
    "de votre programme."
   ]
  },
  {
   "cell_type": "markdown",
   "metadata": {},
   "source": [
    "1. À l'aide du module\n",
    "[`numpy.random`](https://docs.scipy.org/doc/numpy-1.13.0/reference/routines.random.html),\n",
    "générez une matrice `X` de 100\n",
    "observations en dimension 1 tirées d'une loi gaussienne centrée réduite.\n",
    "Générez également un vecteur `y` tel que :\n",
    "\n",
    "$$\\forall i, y_i = \\sin(X_i) + \\varepsilon_i, \\text{ où }  \\varepsilon_i \\sim N(0, 0.1)$$"
   ]
  },
  {
   "cell_type": "markdown",
   "metadata": {},
   "source": [
    "2. Affichez ces données dans une fenêtre `matplotlib`."
   ]
  },
  {
   "cell_type": "markdown",
   "metadata": {},
   "source": [
    "3. Vous allez maintenant chercher à estimer les paramètres d'un modèle de\n",
    "régression linéaire (classe [`LinearRegression`](http://scikit-learn.org/stable/modules/generated/sklearn.linear_model.LinearRegression.html))\n",
    "à ces données.\n",
    "Pour ce faire, les deux premières étapes consisteront à :\n",
    "\n",
    "a. Créer une instance de la classe `LinearRegression` et\n",
    "b. Appeler sa méthode `fit()`.\n",
    "\n",
    "La troisème étape consistera à obtenir les prédictions ($\\hat{y_i}$) du modèle\n",
    "à l'aide de la méthode `predict()`."
   ]
  },
  {
   "cell_type": "markdown",
   "metadata": {},
   "source": [
    "4. Quels sont les attributs des instances de la classe `LinearRegression` ?\n",
    "Quels sont leurs valeurs dans votre cas ?"
   ]
  },
  {
   "cell_type": "markdown",
   "metadata": {},
   "source": [
    "5. Affichez, dans une fenêtre `matplotlib`, les données en bleu et les valeurs\n",
    "prédites correspondantes en rouge."
   ]
  },
  {
   "cell_type": "markdown",
   "metadata": {},
   "source": [
    "# Régression Lasso\n",
    "\n",
    "6. Générez une matrice `X` de 100\n",
    "observations en dimension 10 tirées d'une loi gaussienne de moyenne nulle et\n",
    "dont la matrice de variance-covariance est égale à l'identité.\n",
    "Générez également un vecteur `y` tel que :\n",
    "\n",
    "$$\\forall i, y_i = \\sin(X_{i,0}) + \\varepsilon_i, \\text{ où }  \\varepsilon_i \\sim N(0, 0.1)$$\n",
    "\n",
    "Jetez un oeil aux dimensions de `y`. Vous devriez avoir un vecteur colonne\n",
    "(_ie._ une matrice de dimension `(100, 1)`). Si ce n'est pas le cas, c'est qu'il\n",
    "faut redimensionner la sortie de la fonction `numpy.sin` à l'aide de la méthode\n",
    "[`reshape`](https://docs.scipy.org/doc/numpy-1.13.0/reference/generated/numpy.reshape.html)."
   ]
  },
  {
   "cell_type": "markdown",
   "metadata": {},
   "source": [
    "7. À l'aide de la fonction\n",
    "[`train_test_split`](http://scikit-learn.org/stable/modules/generated/sklearn.model_selection.train_test_split.html)\n",
    "du module `model_selection`, divisez votre jeu de données en un jeu\n",
    "d'apprentissage et un jeu de test, de tailles égales."
   ]
  },
  {
   "cell_type": "markdown",
   "metadata": {},
   "source": [
    "8. En utilisant uniquement les données d'apprentissage, estimez les paramètres\n",
    "d'un modèle\n",
    "[`Lasso`](http://scikit-learn.org/stable/modules/generated/sklearn.linear_model.Lasso.html)\n",
    "(pour `alpha=0.2`). Affichez les paramètres estimés. Qu'en pensez-vous ?"
   ]
  },
  {
   "cell_type": "markdown",
   "metadata": {},
   "source": [
    "9. Utilisez l'un des deux modèles vus précédemment sur le jeu de données\n",
    "[_Boston Housing_](http://scikit-learn.org/stable/modules/generated/sklearn.datasets.load_boston.html)."
   ]
  },
  {
   "cell_type": "markdown",
   "metadata": {},
   "source": [
    "10. Observez, pour quelques instances, les écarts entre loyer prévu par le modèle et loyer réel.\n",
    "Affichez l'erreur quadratique moyenne ([_mean squared error_](http://scikit-learn.org/stable/modules/generated/sklearn.metrics.mean_squared_error.html)) obtenue."
   ]
  },
  {
   "cell_type": "markdown",
   "metadata": {},
   "source": [
    "# Classification : préparation des données\n",
    "\n",
    "Nous allons maintenant travailler sur un jeu de données ultra classique en\n",
    "_machine learning_ : le jeu de données \"Iris\". Ce jeu de données est intégré\n",
    "dans `sklearn` pour être utilisé facilement.\n",
    "\n",
    "11. Chargez ce jeu de données à l'aide de la fonction [`load_iris`](http://scikit-learn.org/stable/modules/generated/sklearn.datasets.load_iris.html) du module\n",
    "`sklearn.datasets`. Faites en sorte de stocker les prédicteurs dans une matrice\n",
    "`X` et les classes à prédire dans un vecteur `y`. Quelles sont les dimensions\n",
    "de `X` ?"
   ]
  },
  {
   "cell_type": "markdown",
   "metadata": {},
   "source": [
    "12. Découpez ce jeu de données en un jeu d'apprentissage et un jeu de test de\n",
    "mêmes tailles et faites en sorte que chacune de vos variables soient\n",
    "centrées-réduites."
   ]
  },
  {
   "cell_type": "markdown",
   "metadata": {},
   "source": [
    "# Le modèle `SVC` (_Support Vector Classifier_)\n",
    "\n",
    "13. Apprenez un modèle SVM linéaire (classe [`SVC`](http://scikit-learn.org/stable/modules/generated/sklearn.svm.SVC.html) dans `sklearn`) pour votre\n",
    "problème."
   ]
  },
  {
   "cell_type": "markdown",
   "metadata": {},
   "source": [
    "14. Évaluez ses performances sur votre jeu de test à l'aide de la fonction\n",
    "[`accuracy_score`](http://scikit-learn.org/stable/modules/generated/sklearn.metrics.accuracy_score.html) du module `sklearn.metrics`."
   ]
  },
  {
   "cell_type": "markdown",
   "metadata": {},
   "source": [
    "15. Faites de même avec un modèle SVM à noyau gaussien. Faites varier la valeur\n",
    "de l'hyperparamètre lié à ce noyau et observez l'évolution du taux de bonnes\n",
    "classifications."
   ]
  },
  {
   "cell_type": "markdown",
   "metadata": {},
   "source": [
    "# Réduction de la dimension\n",
    "\n",
    "Dans la suite, on cherchera à visualiser nos données pour mieux comprendre le\n",
    "résultat produit par nos algorithmes de machine learning.\n",
    "\n",
    "16. Pour cela, commencez par les plonger dans un espace en deux dimensions à\n",
    "l'aide d'une ACP (classe [`PCA`](http://scikit-learn.org/stable/modules/generated/sklearn.decomposition.PCA.html) en `sklearn`). Notez que dans ce cas, pour transformer nos données dans l'espace des premiers axes de l'ACP, on n'utilisera pas une méthode `predict()` mais une méthode `transform()`.\n",
    "\n",
    "On fournit la fonction suivante pour visualiser vos données :"
   ]
  },
  {
   "cell_type": "code",
   "execution_count": 9,
   "metadata": {},
   "outputs": [],
   "source": [
    "def plot_decision(X, y=None, model=None):\n",
    "    if model is not None:        \n",
    "        xx, yy = numpy.meshgrid(numpy.arange(X[:, 0].min() - .5, X[:, 0].max() + .5, .01),\n",
    "                                numpy.arange(X[:, 1].min() - .5, X[:, 1].max() + .5, .01))\n",
    "        zz_class = model.predict(numpy.c_[xx.ravel(), yy.ravel()]).reshape(xx.shape)\n",
    "        plt.contourf(xx, yy, zz_class, alpha=.2)\n",
    "    # Plot data\n",
    "    if y is None:\n",
    "        y = \"k\"\n",
    "    plt.scatter(X[:, 0], X[:, 1], c=y, s=40)\n",
    "    # Set figure coordinate limits\n",
    "    plt.xlim(X[:, 0].min() - .5, X[:, 0].max() + .5)\n",
    "    plt.ylim(X[:, 1].min() - .5, X[:, 1].max() + .5)\n",
    "\n",
    "    "
   ]
  },
  {
   "cell_type": "markdown",
   "metadata": {},
   "source": [
    "17. À l'aide d'un appel à cette fonction (sans passer d'argument `model` pour\n",
    "le moment), visualisez vos données dans le premier plan de l'ACP : vous\n",
    "semble-t-il raisonnable de tenter d'effectuer une classification supervisée dans\n",
    "cet espace ?"
   ]
  },
  {
   "cell_type": "markdown",
   "metadata": {},
   "source": [
    "# Classification non supervisée\n",
    "\n",
    "18. Effectuez une classification non supervisée (ce coup-ci, à vous de\n",
    "    choisir/trouver la bonne classe `sklearn` :) sur vos données représentées\n",
    "    dans le premier plan de l'ACP. Visualisez le résultat de cette classification\n",
    "    en passant votre modèle de clustering comme troisième argument de la\n",
    "    fonction `plot_decision()` définie plus haut."
   ]
  },
  {
   "cell_type": "code",
   "execution_count": null,
   "metadata": {},
   "outputs": [],
   "source": []
  },
  {
   "cell_type": "code",
   "execution_count": null,
   "metadata": {},
   "outputs": [],
   "source": []
  }
 ],
 "metadata": {
  "kernelspec": {
   "display_name": "Python 3",
   "language": "python",
   "name": "python3"
  },
  "language_info": {
   "codemirror_mode": {
    "name": "ipython",
    "version": 3
   },
   "file_extension": ".py",
   "mimetype": "text/x-python",
   "name": "python",
   "nbconvert_exporter": "python",
   "pygments_lexer": "ipython3",
   "version": "3.6.5"
  }
 },
 "nbformat": 4,
 "nbformat_minor": 2
}
