{
 "cells": [
  {
   "cell_type": "markdown",
   "metadata": {},
   "source": [
    "# TD : `keras` & perceptron multi-couches\n",
    "\n",
    "Romain Tavenard\n",
    "Creative Commons CC BY-NC-SA"
   ]
  },
  {
   "cell_type": "markdown",
   "metadata": {},
   "source": [
    "Dans cette séance, nous nous focaliserons sur la création et l'étude de modèles\n",
    "de type perceptron multi-couches à l'aide de la librairie `keras`.\n",
    "\n",
    "Pour cela, vous utiliserez la classe de modèles `Sequential()` de `keras`.\n",
    "Voici ci-dessous un exemple de définition d'un tel modèle :"
   ]
  },
  {
   "cell_type": "code",
   "execution_count": 5,
   "metadata": {},
   "outputs": [
    {
     "name": "stderr",
     "output_type": "stream",
     "text": [
      "Using TensorFlow backend.\n"
     ]
    }
   ],
   "source": [
    "from keras.models import Sequential\n",
    "from keras.layers import Dense\n",
    "\n",
    "#1. définir les couches et les ajouter l'une après l'autre au modèle\n",
    "premiere_couche = Dense(units=12, activation=\"relu\", input_dim=24)\n",
    "couche_cachee = Dense(units=12, activation=\"sigmoid\")\n",
    "couche_sortie = Dense(units=3, activation=\"linear\")\n",
    "\n",
    "model = Sequential()\n",
    "model.add(premiere_couche)\n",
    "model.add(couche_cachee)\n",
    "model.add(couche_sortie)"
   ]
  },
  {
   "cell_type": "markdown",
   "metadata": {},
   "source": [
    "2. Spécifier l'algo d'optimisation et la fonction de risque à optimiser\n",
    "\n",
    "Fonctions de risque classiques :\n",
    " * \"mse\" en régression,\n",
    " * \"categorical_crossentropy\" en classification multi-classes\n",
    " * \"binary_crossentropy\" en classification binaire\n",
    " \n",
    " On peut y ajouter des métriques supplémentaires (ici taux de bonne\n",
    " classifications)"
   ]
  },
  {
   "cell_type": "code",
   "execution_count": 6,
   "metadata": {},
   "outputs": [],
   "source": [
    "model.compile(optimizer=\"sgd\", loss=\"mse\", metrics=[\"accuracy\"])"
   ]
  },
  {
   "cell_type": "markdown",
   "metadata": {},
   "source": [
    "3. Lancer l'apprentissage"
   ]
  },
  {
   "cell_type": "code",
   "execution_count": 8,
   "metadata": {},
   "outputs": [],
   "source": [
    "#model.fit(X_train, y_train, verbose=2, epochs=10, batch_size=200)"
   ]
  },
  {
   "cell_type": "markdown",
   "metadata": {},
   "source": [
    "# Préparation des données\n",
    "\n",
    "Pour ce TD, nous vous proposons d'utiliser les fonctions suivantes pour préparer\n",
    "vos données à l'utilisation dans `keras` :"
   ]
  },
  {
   "cell_type": "code",
   "execution_count": 18,
   "metadata": {},
   "outputs": [],
   "source": [
    "from sklearn.preprocessing import MinMaxScaler\n",
    "from keras.datasets import mnist, boston_housing\n",
    "from keras.utils import to_categorical\n",
    "import numpy as np"
   ]
  },
  {
   "cell_type": "code",
   "execution_count": 19,
   "metadata": {},
   "outputs": [],
   "source": [
    "def prepare_mnist():\n",
    "    (x_train, y_train), (x_test, y_test) = mnist.load_data()\n",
    "    x_train = x_train.reshape((x_train.shape[0], -1))\n",
    "    x_test = x_test.reshape((x_test.shape[0], -1))\n",
    "    scaler = MinMaxScaler()\n",
    "    scaler.fit(x_train)\n",
    "    x_train = scaler.transform(x_train)\n",
    "    x_test = scaler.transform(x_test)\n",
    "    y_train = to_categorical(y_train)\n",
    "    y_test = to_categorical(y_test)\n",
    "    return x_train, x_test, y_train, y_test"
   ]
  },
  {
   "cell_type": "code",
   "execution_count": 29,
   "metadata": {},
   "outputs": [],
   "source": [
    "def prepare_boston():\n",
    "    (x_train, y_train), (x_test, y_test) = boston_housing.load_data()\n",
    "    \n",
    "    scaler_x = MinMaxScaler()\n",
    "    scaler_x.fit(x_train)\n",
    "    x_train = scaler_x.transform(x_train)\n",
    "    x_test = scaler_x.transform(x_test)\n",
    "    scaler_y = MinMaxScaler()\n",
    "    scaler_y.fit(y_train[:,np.newaxis])\n",
    "    y_train = scaler_y.transform(y_train[:,np.newaxis])\n",
    "    y_test = scaler_y.transform(y_test[:,np.newaxis])\n",
    "    return x_train, x_test, y_train, y_test"
   ]
  },
  {
   "cell_type": "code",
   "execution_count": 30,
   "metadata": {},
   "outputs": [
    {
     "data": {
      "text/plain": [
       "((404, 13), (404, 1))"
      ]
     },
     "execution_count": 30,
     "metadata": {},
     "output_type": "execute_result"
    }
   ],
   "source": [
    "x_train, x_test, y_train, y_test = prepare_boston()\n",
    "x_train.shape, y_train.shape"
   ]
  },
  {
   "cell_type": "code",
   "execution_count": 31,
   "metadata": {},
   "outputs": [
    {
     "name": "stdout",
     "output_type": "stream",
     "text": [
      "Downloading data from https://s3.amazonaws.com/img-datasets/mnist.npz\n",
      "11493376/11490434 [==============================] - 8s 1us/step\n"
     ]
    },
    {
     "name": "stderr",
     "output_type": "stream",
     "text": [
      "/opt/miniconda3/envs/ml-2018/lib/python3.6/site-packages/sklearn/utils/validation.py:475: DataConversionWarning: Data with input dtype uint8 was converted to float64 by MinMaxScaler.\n",
      "  warnings.warn(msg, DataConversionWarning)\n"
     ]
    },
    {
     "data": {
      "text/plain": [
       "((60000, 784), (60000, 10))"
      ]
     },
     "execution_count": 31,
     "metadata": {},
     "output_type": "execute_result"
    }
   ],
   "source": [
    "\n",
    "x_train.shape, y_train.shape"
   ]
  },
  {
   "cell_type": "markdown",
   "metadata": {},
   "source": [
    "1. Observez le code des fonctions `prepare_mnist` et `prepare_boston`.\n",
    "Que font ces fonctions ? Quelles sont les dimensions des matrices / vecteurs à\n",
    "la sortie ? S'agit-il de problèmes de classification ou de régression ?"
   ]
  },
  {
   "cell_type": "markdown",
   "metadata": {},
   "source": [
    "# Premiers réseaux de neurone\n",
    "\n",
    "2. Chargez le jeu de données MNIST et apprenez un premier modèle sans couche\n",
    "cachée avec une fonction d'activation raisonnable pour les neurones de la couche\n",
    "de sortie. Pour cette question comme pour les suivantes, limitez vous à un\n",
    "nombre d'itérations de l'ordre de 10 : ce n'est absolument pas réaliste, mais\n",
    "cela vous évitera de perdre trop de temps à scruter l'apprentissage de vos\n",
    "modèles."
   ]
  },
  {
   "cell_type": "code",
   "execution_count": 36,
   "metadata": {},
   "outputs": [
    {
     "name": "stderr",
     "output_type": "stream",
     "text": [
      "/opt/miniconda3/envs/ml-2018/lib/python3.6/site-packages/sklearn/utils/validation.py:475: DataConversionWarning: Data with input dtype uint8 was converted to float64 by MinMaxScaler.\n",
      "  warnings.warn(msg, DataConversionWarning)\n"
     ]
    },
    {
     "data": {
      "text/plain": [
       "((60000, 784), (60000, 10))"
      ]
     },
     "execution_count": 36,
     "metadata": {},
     "output_type": "execute_result"
    }
   ],
   "source": [
    "# regression logicstique\n",
    "x_train, x_test, y_train, y_test = prepare_mnist()\n",
    "x_train.shape, y_train.shape"
   ]
  },
  {
   "cell_type": "code",
   "execution_count": 37,
   "metadata": {},
   "outputs": [
    {
     "name": "stdout",
     "output_type": "stream",
     "text": [
      "Epoch 1/10\n",
      " - 1s - loss: 0.8476 - acc: 0.7997\n",
      "Epoch 2/10\n",
      " - 1s - loss: 0.4256 - acc: 0.8896\n",
      "Epoch 3/10\n",
      " - 1s - loss: 0.3605 - acc: 0.9026\n",
      "Epoch 4/10\n",
      " - 1s - loss: 0.3304 - acc: 0.9096\n",
      "Epoch 5/10\n",
      " - 1s - loss: 0.3125 - acc: 0.9143\n",
      "Epoch 6/10\n",
      " - 1s - loss: 0.3005 - acc: 0.9167\n",
      "Epoch 7/10\n",
      " - 1s - loss: 0.2917 - acc: 0.9190\n",
      "Epoch 8/10\n",
      " - 1s - loss: 0.2851 - acc: 0.9203\n",
      "Epoch 9/10\n",
      " - 1s - loss: 0.2796 - acc: 0.9227\n",
      "Epoch 10/10\n",
      " - 1s - loss: 0.2754 - acc: 0.9232\n"
     ]
    },
    {
     "data": {
      "text/plain": [
       "<keras.callbacks.History at 0x137be3748>"
      ]
     },
     "execution_count": 37,
     "metadata": {},
     "output_type": "execute_result"
    }
   ],
   "source": [
    "input_layer = Dense(units=y_train.shape[1], \n",
    "                    activation=\"softmax\", \n",
    "                    input_dim=x_train.shape[1])\n",
    "\n",
    "model = Sequential()\n",
    "model.add(input_layer)\n",
    "model.compile(optimizer=\"adam\",\n",
    "             loss=\"categorical_crossentropy\",\n",
    "             metrics=[\"accuracy\"])\n",
    "\n",
    "model.fit(x_train, y_train, epochs=10, batch_size=256, verbose=2)"
   ]
  },
  {
   "cell_type": "markdown",
   "metadata": {},
   "source": [
    "3. Comparez les performances de ce premier modèle è celle de modèles avec\n",
    "respectivement 1, 2 et 3 couches cachées de 128 neurones chacune. Vous\n",
    "utiliserez la fonction ReLU (`\"relu\"`) comme fonction d'activation pour les\n",
    "neurones des couches cachées."
   ]
  },
  {
   "cell_type": "code",
   "execution_count": 39,
   "metadata": {},
   "outputs": [
    {
     "name": "stdout",
     "output_type": "stream",
     "text": [
      "Epoch 1/10\n",
      " - 1s - loss: 0.3882 - acc: 0.8927\n",
      "Epoch 2/10\n",
      " - 1s - loss: 0.1531 - acc: 0.9551\n",
      "Epoch 3/10\n",
      " - 1s - loss: 0.1091 - acc: 0.9680\n",
      "Epoch 4/10\n",
      " - 1s - loss: 0.0836 - acc: 0.9750\n",
      "Epoch 5/10\n",
      " - 1s - loss: 0.0672 - acc: 0.9797\n",
      "Epoch 6/10\n",
      " - 1s - loss: 0.0548 - acc: 0.9836\n",
      "Epoch 7/10\n",
      " - 1s - loss: 0.0461 - acc: 0.9857\n",
      "Epoch 8/10\n",
      " - 1s - loss: 0.0377 - acc: 0.9887\n",
      "Epoch 9/10\n",
      " - 1s - loss: 0.0302 - acc: 0.9912\n",
      "Epoch 10/10\n",
      " - 1s - loss: 0.0249 - acc: 0.9927\n"
     ]
    },
    {
     "data": {
      "text/plain": [
       "<keras.callbacks.History at 0x12ce8df60>"
      ]
     },
     "execution_count": 39,
     "metadata": {},
     "output_type": "execute_result"
    }
   ],
   "source": [
    "input_layer = Dense(units=128, \n",
    "                    activation=\"relu\", \n",
    "                    input_dim=x_train.shape[1])\n",
    "\n",
    "second_layer = Dense(units=128, \n",
    "                    activation=\"relu\", \n",
    "                    input_dim=x_train.shape[1])\n",
    "\n",
    "\n",
    "third_layer = Dense(units=y_train.shape[1], \n",
    "                    activation=\"softmax\")\n",
    "\n",
    "model = Sequential()\n",
    "model.add(input_layer)\n",
    "model.add(second_layer)\n",
    "model.add(third_layer)\n",
    "\n",
    "model.compile(optimizer=\"adam\",\n",
    "             loss=\"categorical_crossentropy\",\n",
    "             metrics=[\"accuracy\"])\n",
    "\n",
    "model.fit(x_train, y_train, epochs=10, batch_size=256, verbose=2)"
   ]
  },
  {
   "cell_type": "markdown",
   "metadata": {},
   "source": [
    "4. On peut obtenir le nombre de paramètres d'un modèle à l'aide de la\n",
    "méthode `count_params()`. Comptez ainsi le nombre de paramètres du modèle à\n",
    "3 couches cachées et définissez un modèle à une seule couche cachée ayant un\n",
    "nombre comparable de paramètres. Parmi ces deux modèles, lequel semble le plus\n",
    "performant ?"
   ]
  },
  {
   "cell_type": "code",
   "execution_count": 41,
   "metadata": {},
   "outputs": [
    {
     "name": "stdout",
     "output_type": "stream",
     "text": [
      "Train on 54000 samples, validate on 6000 samples\n",
      "Epoch 1/10\n",
      " - 1s - loss: 0.4320 - acc: 0.8777 - val_loss: 0.1668 - val_acc: 0.9538\n",
      "Epoch 2/10\n",
      " - 1s - loss: 0.1710 - acc: 0.9500 - val_loss: 0.1158 - val_acc: 0.9682\n",
      "Epoch 3/10\n",
      " - 1s - loss: 0.1191 - acc: 0.9654 - val_loss: 0.1007 - val_acc: 0.9722\n",
      "Epoch 4/10\n",
      " - 1s - loss: 0.0897 - acc: 0.9737 - val_loss: 0.0898 - val_acc: 0.9718\n",
      "Epoch 5/10\n",
      " - 1s - loss: 0.0723 - acc: 0.9788 - val_loss: 0.0835 - val_acc: 0.9755\n",
      "Epoch 6/10\n",
      " - 1s - loss: 0.0599 - acc: 0.9823 - val_loss: 0.0780 - val_acc: 0.9782\n",
      "Epoch 7/10\n",
      " - 1s - loss: 0.0484 - acc: 0.9855 - val_loss: 0.0763 - val_acc: 0.9783\n",
      "Epoch 8/10\n",
      " - 1s - loss: 0.0390 - acc: 0.9890 - val_loss: 0.0844 - val_acc: 0.9770\n",
      "Epoch 9/10\n",
      " - 1s - loss: 0.0326 - acc: 0.9902 - val_loss: 0.0761 - val_acc: 0.9762\n",
      "Epoch 10/10\n",
      " - 1s - loss: 0.0280 - acc: 0.9920 - val_loss: 0.0738 - val_acc: 0.9798\n"
     ]
    },
    {
     "data": {
      "text/plain": [
       "<keras.callbacks.History at 0x1268e27b8>"
      ]
     },
     "execution_count": 41,
     "metadata": {},
     "output_type": "execute_result"
    }
   ],
   "source": [
    "input_layer = Dense(units=128, \n",
    "                    activation=\"relu\", \n",
    "                    input_dim=x_train.shape[1])\n",
    "\n",
    "second_layer = Dense(units=128, \n",
    "                    activation=\"relu\", \n",
    "                    input_dim=x_train.shape[1])\n",
    "\n",
    "\n",
    "third_layer = Dense(units=y_train.shape[1], \n",
    "                    activation=\"softmax\")\n",
    "\n",
    "model = Sequential()\n",
    "model.add(input_layer)\n",
    "model.add(second_layer)\n",
    "model.add(third_layer)\n",
    "\n",
    "model.compile(optimizer=\"adam\",\n",
    "             loss=\"categorical_crossentropy\",\n",
    "             metrics=[\"accuracy\"])\n",
    "\n",
    "model.fit(x_train, y_train, \n",
    "          epochs=10, batch_size=256, \n",
    "          verbose=2, validation_split=0.1)\n",
    "\n",
    "y_pred = model.predict(x_train)\n",
    "\n",
    "confusion_matrix(y_train.argmax(axis=1), y_pred.argmax(axis=1))"
   ]
  },
  {
   "cell_type": "code",
   "execution_count": 43,
   "metadata": {},
   "outputs": [
    {
     "data": {
      "text/plain": [
       "118282"
      ]
     },
     "execution_count": 43,
     "metadata": {},
     "output_type": "execute_result"
    }
   ],
   "source": [
    "model.count_params()"
   ]
  },
  {
   "cell_type": "markdown",
   "metadata": {},
   "source": [
    "# Utilisation d'un jeu de validation\n",
    "\n",
    "Bien entendu, les observations faites plus haut ne sont pas suffisantes,\n",
    "notamment parce qu'elles ne permettent pas de se rendre compte de l'ampleur du\n",
    "phénomène de sur-apprentissage.\n",
    "\n",
    "Pour y remédier, `keras` permet de fixer, lors de l'appel à la méthode `fit()`,\n",
    "une fraction du jeu d'apprentissage à utiliser pour la validation.\n",
    "Jetez un oeil\n",
    "[ici](https://keras.io/getting-started/faq/#how-is-the-validation-split-computed)\n",
    "pour comprendre comment les exemples de validation sont\n",
    "choisis."
   ]
  },
  {
   "cell_type": "markdown",
   "metadata": {},
   "source": [
    "5. Répétez les comparaisons de modèles ci-dessus en vous focalisant sur le taux\n",
    "de bonnes classifications obtenu sur le jeu de validation (vous prendrez 30\\%\n",
    "    du jeu d'apprentissage pour votre validation)."
   ]
  },
  {
   "cell_type": "markdown",
   "metadata": {},
   "source": [
    "# Régularisation et _Drop-Out_\n",
    "\n",
    "6. Appliquez une régularisation de type $L_1$ à chacune des couches de votre\n",
    "réseau. L'aide disponible [ici](https://keras.io/regularizers/) devrait\n",
    "vous aider."
   ]
  },
  {
   "cell_type": "markdown",
   "metadata": {},
   "source": [
    "7. Au lieu de la régularisation $L_1$, choisissez de mettre en place une\n",
    "stratégie de [_Drop-Out_](https://keras.io/layers/core/#dropout) pour aider à la\n",
    "régularisation de votre réseau.\n",
    "Vous éteindrez à chaque étape 10\\% des poids de votre réseau."
   ]
  },
  {
   "cell_type": "markdown",
   "metadata": {},
   "source": [
    "# Algorithme d'optimisation et vitesse de convergence\n",
    "\n",
    "8. Modifiez la méthode d'optimisation choisie. Vous pourrez notamment essayer\n",
    "les algorithmes `\"rmsprop\"` et `\"adam\"`, reconnus pour leurs performances."
   ]
  },
  {
   "cell_type": "markdown",
   "metadata": {},
   "source": [
    "9. En utilisant l'aide fournie [ici](https://keras.io/optimizers/), faites\n",
    "varier le paramètre `lr` (_learning rate_) à l'extrême pour observer :\n",
    "\n",
    "* l'instabilité des performances lorsque celui-ci est trop grand ;\n",
    "* la lenteur de la convergence lorsque celui-ci est trop petit."
   ]
  },
  {
   "cell_type": "markdown",
   "metadata": {},
   "source": [
    "# Modèles `keras` dans `sklearn`\n",
    "\n",
    "Il est possible de transformer vos modèles `keras` (en tout cas, ceux qui sont\n",
    "    de type `Sequential`) en modèles `sklearn`. Cela a notamment pour avantage\n",
    "de vous permettre d'utiliser les fonctionnalités de sélection de modèles vues\n",
    "lors du TD précédent.\n",
    "\n",
    "Pour cela, vous devrez utiliser au choix l'une des classes `KerasClassifier` ou\n",
    "`KerasRegressor` (selon le problème de _machine learning_ auquel vous êtes\n",
    "    confronté) du module `keras.wrappers.scikit-learn`.\n",
    "\n",
    "Le principe de fonctionnement de ces deux classes est le même :"
   ]
  },
  {
   "cell_type": "code",
   "execution_count": null,
   "metadata": {},
   "outputs": [],
   "source": [
    "clf = KerasClassifier(build_fn=ma_fonction, param1=12, param2=\"sgd\", ...)\n",
    "clf.fit(X, y)\n",
    "clf.predict(X_test)"
   ]
  },
  {
   "cell_type": "markdown",
   "metadata": {},
   "source": [
    "Une fois construit, l'objet `clf` s'utilise donc exactement comme un classifieur\n",
    "`sklearn`.\n",
    "L'attribut `build_fn` prend le nom d'une fonction qui retourne un modèle\n",
    "`keras`. Les autres paramètres passés lors de la construction du classifieur\n",
    "peuvent être :\n",
    "\n",
    "* des paramètres de votre fonction `ma_fonction` ;\n",
    "* des paramètres passés au modèle lors de son apprentissage (appel à la\n",
    "    méthode `fit()`)."
   ]
  },
  {
   "cell_type": "markdown",
   "metadata": {},
   "source": [
    "10. Créez un réseau à deux couches cachées transformé en objet `sklearn` en\n",
    "spécifiant, lors de sa construction, le nombre d'itérations et la taille des\n",
    "_batchs_ de votre descente de gradient par _mini-batchs_. Vous pourrez\n",
    "utiliser la méthode `score()` des objets `sklearn` pour évaluer ce modèle."
   ]
  },
  {
   "cell_type": "markdown",
   "metadata": {},
   "source": [
    "11. Utilisez les outils de validation croisée de `sklearn` pour choisir entre\n",
    "les algorithmes d'optimisation `\"rmsprop\"` et `\"sgd\"`."
   ]
  },
  {
   "cell_type": "markdown",
   "metadata": {},
   "source": [
    "# La notion de `Callback`\n",
    "\n",
    "Les _Callbacks_ sont des outils qui, dans `keras`, permettent d'avoir un oeil\n",
    "sur ce qui se passe lors de l'apprentissage et, éventuellement, d'agir sur cet\n",
    "apprentissage.\n",
    "\n",
    "Le premier _callback_ auquel vous pouvez accéder simplement est retourné\n",
    "lors de l'appel à la méthode `fit()` (sur un objet `keras`, pas `sklearn`). Ce\n",
    "_callback_ est un objet qui possède un attribut `history`. Cet attribut est un\n",
    "dictionnaire dont les clés sont les métriques suivies lors de l'apprentissage.\n",
    "À chacune de ces clés est associé un vecteur indiquant comment la quantité en\n",
    "question a évolué au fil des itérations."
   ]
  },
  {
   "cell_type": "markdown",
   "metadata": {},
   "source": [
    "12. Tracez les courbes d'évolution du taux de bonnes classifications sur les\n",
    "jeux d'entrainement et de validation.\n",
    "\n",
    "La mise en place d'autres _callbacks_ doit être explicite. Elle se fait en\n",
    "passant une liste de _callbacks_ lors de l'appel à la méthode `fit()`.\n",
    "Lorsque l'apprentissage prend beaucoup de temps, la méthode précédente n'est pas\n",
    "satisfaisante car il est nécessaire d'attendre la fin du processus\n",
    "d'apprentissage avant de visualiser ces courbes. Dans ce cas, le _callback_\n",
    "[`TensorBoard`](https://keras.io/callbacks/#tensorboard) peut s'avérer très\n",
    "pratique."
   ]
  },
  {
   "cell_type": "markdown",
   "metadata": {},
   "source": [
    "13. Visualisez dans une page TensorBoard l'évolution des métriques `\"loss\"`\n",
    "et `\"accuracy\"` lors de l'apprentissage d'un modèle.\n",
    "\n",
    "De même, lorsque l'apprentissage est long, il peut s'avérer souhaitable\n",
    "d'enregistrer des modèles intermédiaires, dans le cas où un plantage arriverait\n",
    "par exemple. Cela peut se faire à l'aide du _callback_\n",
    "[`ModelCheckpoint`](https://keras.io/callbacks/#modelcheckpoint)."
   ]
  },
  {
   "cell_type": "markdown",
   "metadata": {},
   "source": [
    "14. Mettez en place un enregistrement des modèles intermédiaires toutes les 2\n",
    "itérations, en n'enregistrant un modèle que si le risque calculé sur le jeu de\n",
    "validation est plus faible que celui de tous les autres modèles enregistrés\n",
    "aux itérations précédentes."
   ]
  },
  {
   "cell_type": "markdown",
   "metadata": {},
   "source": [
    "15. Mettez en oeuvre une politique d'arrêt précoce de l'apprentissage au cas où\n",
    "le risque calculé sur le jeu de validation n'a pas diminué depuis au moins 5\n",
    "itérations (en utilisant le _callback_\n",
    "[`EarlyStopping`](https://keras.io/callbacks/#earlystopping))."
   ]
  },
  {
   "cell_type": "markdown",
   "metadata": {},
   "source": [
    "# Exercice de synthèse\n",
    "\n",
    "16. Mettez en place une validation croisée pour choisir la structure (nombre de\n",
    "    couches, nombre de neurones par couche) et l'algorithme d'optimisation\n",
    "    idoines pour le problème lié au jeu de données _Boston Housing_ (pour lequel\n",
    "        une fonction de préparation des données est fournie dans le module\n",
    "        `dataset_utils`)."
   ]
  },
  {
   "cell_type": "code",
   "execution_count": null,
   "metadata": {},
   "outputs": [],
   "source": []
  }
 ],
 "metadata": {
  "kernelspec": {
   "display_name": "Python 3",
   "language": "python",
   "name": "python3"
  },
  "language_info": {
   "codemirror_mode": {
    "name": "ipython",
    "version": 3
   },
   "file_extension": ".py",
   "mimetype": "text/x-python",
   "name": "python",
   "nbconvert_exporter": "python",
   "pygments_lexer": "ipython3",
   "version": "3.6.5"
  }
 },
 "nbformat": 4,
 "nbformat_minor": 2
}
