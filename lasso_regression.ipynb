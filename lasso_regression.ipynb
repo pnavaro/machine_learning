{
 "cells": [
  {
   "cell_type": "code",
   "execution_count": 65,
   "metadata": {},
   "outputs": [],
   "source": [
    "using Plots, CSV\n",
    "include(\"utils.jl\")\n",
    "include(\"lasso.jl\")\n",
    "# Load temperature data\n",
    "data = CSV.read(download(\"https://raw.githubusercontent.com/eriklindernoren/ML-From-Scratch/master/mlfromscratch/data/TempLinkoping2016.txt\"), delim=\"\\t\");"
   ]
  },
  {
   "cell_type": "code",
   "execution_count": 66,
   "metadata": {},
   "outputs": [],
   "source": [
    "time = reshape(collect(data.time), size(data)[1], 1)\n",
    "temp = collect(data.temp);"
   ]
  },
  {
   "cell_type": "code",
   "execution_count": 67,
   "metadata": {},
   "outputs": [],
   "source": [
    "X = time # fraction of the year [0, 1]\n",
    "y = temp;"
   ]
  },
  {
   "cell_type": "code",
   "execution_count": 68,
   "metadata": {},
   "outputs": [
    {
     "data": {
      "text/plain": [
       "([0.379781421; 0.101092896; … ; 0.199453552; 0.346994536], [0.346994536; 0.054644809; … ; 0.633879781; 0.767759563], [10.3, 4.2, 4.6, 23.1, 15.3, -1.4, 3.4, 5.9, 3.8, 0.3  …  10.2, 18.6, -4.1, 17.4, 7.0, 18.0, 15.6, 16.2, 1.0, 11.8], [11.8, -9.0, -2.8, 6.5, 19.0, 6.4, 7.8, 13.0, 0.1, 16.4  …  14.0, 7.4, 11.9, 21.0, 16.4, 7.7, 14.5, -1.6, 15.5, 8.1])"
      ]
     },
     "execution_count": 68,
     "metadata": {},
     "output_type": "execute_result"
    }
   ],
   "source": [
    "X_train, X_test, y_train, y_test = train_test_split(X, y, test_size=0.4)"
   ]
  },
  {
   "cell_type": "code",
   "execution_count": 69,
   "metadata": {},
   "outputs": [
    {
     "data": {
      "text/plain": [
       "13"
      ]
     },
     "execution_count": 69,
     "metadata": {},
     "output_type": "execute_result"
    }
   ],
   "source": [
    "poly_degree = 13"
   ]
  },
  {
   "cell_type": "code",
   "execution_count": 70,
   "metadata": {},
   "outputs": [
    {
     "data": {
      "text/plain": [
       "(183, 1)"
      ]
     },
     "execution_count": 70,
     "metadata": {},
     "output_type": "execute_result"
    }
   ],
   "source": [
    "model = LassoRegression(degree=15, \n",
    "                        reg_factor=0.05,\n",
    "                        n_features=1, \n",
    "                        learning_rate=0.001,\n",
    "                        n_iterations=4000)\n",
    "size(X_train)"
   ]
  },
  {
   "cell_type": "code",
   "execution_count": null,
   "metadata": {},
   "outputs": [],
   "source": []
  },
  {
   "cell_type": "code",
   "execution_count": 71,
   "metadata": {},
   "outputs": [
    {
     "ename": "MethodError",
     "evalue": "MethodError: no method matching normalize(::Array{Float64,2})\nClosest candidates are:\n  normalize(!Matched::StaticArrays.StaticArray{Tuple{N},T,1} where T where N) at /Users/navaro/.julia/packages/StaticArrays/3KEjZ/src/linalg.jl:289\n  normalize(!Matched::StaticArrays.StaticArray{Tuple{N},T,1} where T where N, !Matched::Real) at /Users/navaro/.julia/packages/StaticArrays/3KEjZ/src/linalg.jl:290\n  normalize(!Matched::AbstractArray{T,1} where T) at /Users/sabae/buildbot/worker/package_macos64/build/usr/share/julia/stdlib/v1.2/LinearAlgebra/src/generic.jl:1511\n  ...",
     "output_type": "error",
     "traceback": [
      "MethodError: no method matching normalize(::Array{Float64,2})\nClosest candidates are:\n  normalize(!Matched::StaticArrays.StaticArray{Tuple{N},T,1} where T where N) at /Users/navaro/.julia/packages/StaticArrays/3KEjZ/src/linalg.jl:289\n  normalize(!Matched::StaticArrays.StaticArray{Tuple{N},T,1} where T where N, !Matched::Real) at /Users/navaro/.julia/packages/StaticArrays/3KEjZ/src/linalg.jl:290\n  normalize(!Matched::AbstractArray{T,1} where T) at /Users/sabae/buildbot/worker/package_macos64/build/usr/share/julia/stdlib/v1.2/LinearAlgebra/src/generic.jl:1511\n  ...",
      "",
      "Stacktrace:",
      " [1] fit(::LassoRegression, ::Array{Float64,2}, ::Array{Float64,1}) at /Users/navaro/PycharmProjects/machine_learning/lasso.jl:63",
      " [2] top-level scope at In[71]:1"
     ]
    }
   ],
   "source": [
    "fit(model, X_train, y_train)"
   ]
  },
  {
   "cell_type": "code",
   "execution_count": 83,
   "metadata": {},
   "outputs": [
    {
     "ename": "InexactError",
     "evalue": "InexactError: Int64(0.2672612419124244)",
     "output_type": "error",
     "traceback": [
      "InexactError: Int64(0.2672612419124244)",
      "",
      "Stacktrace:",
      " [1] Type at ./float.jl:703 [inlined]",
      " [2] convert at ./number.jl:7 [inlined]",
      " [3] setindex! at ./array.jl:768 [inlined]",
      " [4] macro expansion at ./multidimensional.jl:729 [inlined]",
      " [5] macro expansion at ./cartesian.jl:64 [inlined]",
      " [6] macro expansion at ./multidimensional.jl:724 [inlined]",
      " [7] _unsafe_setindex!(::IndexLinear, ::Array{Int64,2}, ::Array{Float64,1}, ::UnitRange{Int64}, ::Int64) at ./multidimensional.jl:717",
      " [8] _setindex! at ./multidimensional.jl:712 [inlined]",
      " [9] setindex!(::Array{Int64,2}, ::Array{Float64,1}, ::UnitRange{Int64}, ::Int64) at ./abstractarray.jl:1074",
      " [10] top-level scope at ./In[83]:4"
     ]
    }
   ],
   "source": [
    "X = collect(reshape(1:12, 3, 4))\n",
    "\n",
    "for j in 1:size(X)[2]\n",
    "    X[1:end,j] = normalize(vec(X[1:end,1]))\n",
    "end"
   ]
  },
  {
   "cell_type": "code",
   "execution_count": null,
   "metadata": {},
   "outputs": [],
   "source": [
    "# Training error plot\n",
    "n = len(model.training_errors)\n",
    "training, = plt.plot(range(n), model.training_errors, label=\"Training Error\")\n",
    "plt.legend(handles=[training])\n",
    "plt.title(\"Error Plot\")\n",
    "plt.ylabel('Mean Squared Error')\n",
    "plt.xlabel('Iterations')\n",
    "plt.show()"
   ]
  },
  {
   "cell_type": "code",
   "execution_count": null,
   "metadata": {},
   "outputs": [],
   "source": [
    "y_pred = model.predict(X_test)\n",
    "mse = mean_squared_error(y_test, y_pred)\n",
    "print (\"Mean squared error: %s (given by reg. factor: %s)\" % (mse, 0.05))"
   ]
  },
  {
   "cell_type": "code",
   "execution_count": null,
   "metadata": {},
   "outputs": [],
   "source": [
    "y_pred_line = model.predict(X)"
   ]
  },
  {
   "cell_type": "code",
   "execution_count": null,
   "metadata": {},
   "outputs": [],
   "source": [
    "# Color map\n",
    "cmap = plt.get_cmap('viridis')"
   ]
  },
  {
   "cell_type": "code",
   "execution_count": null,
   "metadata": {
    "lines_to_next_cell": 2
   },
   "outputs": [],
   "source": [
    "# Plot the results\n",
    "m1 = plt.scatter(366 * X_train, y_train, color=cmap(0.9), s=10)\n",
    "m2 = plt.scatter(366 * X_test, y_test, color=cmap(0.5), s=10)\n",
    "plt.plot(366 * X, y_pred_line, color='black', linewidth=2, label=\"Prediction\")\n",
    "plt.suptitle(\"Lasso Regression\")\n",
    "plt.title(\"MSE: %.2f\" % mse, fontsize=10)\n",
    "plt.xlabel('Day')\n",
    "plt.ylabel('Temperature in Celcius')\n",
    "plt.legend((m1, m2), (\"Training data\", \"Test data\"), loc='lower right')\n",
    "plt.show()"
   ]
  }
 ],
 "metadata": {
  "jupytext": {
   "cell_metadata_filter": "-all",
   "formats": "ipynb,jl:light",
   "notebook_metadata_filter": "-all",
   "text_representation": {
    "extension": ".jl",
    "format_name": "light"
   }
  },
  "kernelspec": {
   "display_name": "Julia 1.2.0",
   "language": "julia",
   "name": "julia-1.2"
  },
  "language_info": {
   "file_extension": ".jl",
   "mimetype": "application/julia",
   "name": "julia",
   "version": "1.2.0"
  }
 },
 "nbformat": 4,
 "nbformat_minor": 2
}
